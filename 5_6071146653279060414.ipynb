{
 "cells": [
  {
   "cell_type": "markdown",
   "metadata": {},
   "source": [
    "     Question 1"
   ]
  },
  {
   "cell_type": "code",
   "execution_count": null,
   "metadata": {},
   "outputs": [],
   "source": [
    "a=complex(2 ,3)\n",
    "\n",
    "b=complex(4 ,5)\n",
    "print(a)\n",
    "print(b)\n",
    "\n",
    "add=a+b\n",
    "sub=a-b\n",
    "mult=a*b\n",
    "div=a/b\n",
    "#f_div=a//b\n",
    "\n",
    "print(add)\n",
    "print(sub)\n",
    "print(mult)\n",
    "print(div)\n",
    "#print(f_div)\n",
    "\n",
    "\n"
   ]
  },
  {
   "cell_type": "markdown",
   "metadata": {},
   "source": [
    "    question 2"
   ]
  },
  {
   "cell_type": "code",
   "execution_count": null,
   "metadata": {},
   "outputs": [],
   "source": [
    "range(1,10)"
   ]
  },
  {
   "cell_type": "code",
   "execution_count": null,
   "metadata": {},
   "outputs": [],
   "source": [
    "print(range(1,10))"
   ]
  },
  {
   "cell_type": "markdown",
   "metadata": {},
   "source": [
    "syntax= range(start, end+1,sep)"
   ]
  },
  {
   "cell_type": "code",
   "execution_count": null,
   "metadata": {},
   "outputs": [],
   "source": [
    "print(range(1,10,2))"
   ]
  },
  {
   "cell_type": "markdown",
   "metadata": {},
   "source": [
    "    Question 3"
   ]
  },
  {
   "cell_type": "code",
   "execution_count": 1,
   "metadata": {},
   "outputs": [
    {
     "name": "stdout",
     "output_type": "stream",
     "text": [
      "enter a first no55\n",
      "enter a second no50\n",
      "sub of two no :  5\n",
      "div of two no is : 1.1\n"
     ]
    }
   ],
   "source": [
    "no1 = int(input(\"enter a first no\"))\n",
    "no2 = int(input(\"enter a second no\"))\n",
    "\n",
    "ans = no1 - no2\n",
    "print(\"sub of two no : \", ans)\n",
    "if ans > 25:\n",
    "    mult = no1 * no2\n",
    "    print(\"mult of two no is\", mult)\n",
    "else:\n",
    "    div = no1 / no2\n",
    "    print(\"div of two no is :\", div)"
   ]
  },
  {
   "cell_type": "markdown",
   "metadata": {},
   "source": [
    "    Question 4"
   ]
  },
  {
   "cell_type": "code",
   "execution_count": 2,
   "metadata": {},
   "outputs": [
    {
     "name": "stdout",
     "output_type": "stream",
     "text": [
      "1 are not square of the number minus 2\n",
      "2 are square of the number minus 2\n",
      "3 are not square of the number minus 2\n",
      "4 are square of the number minus 2\n",
      "5 are not square of the number minus 2\n",
      "6 are square of the number minus 2\n",
      "7 are not square of the number minus 2\n",
      "8 are square of the number minus 2\n",
      "9 are not square of the number minus 2\n",
      "10 are square of the number minus 2\n"
     ]
    }
   ],
   "source": [
    "list = [1, 2, 3, 4, 5, 6, 7, 8, 9, 10]\n",
    "\n",
    "for element in list:\n",
    "    if element % 2 == 0:\n",
    "        print(f'{element} are square of the number minus 2')\n",
    "    else:\n",
    "        print(f'{element} are not square of the number minus 2')\n"
   ]
  },
  {
   "cell_type": "markdown",
   "metadata": {},
   "source": [
    "     Question 5"
   ]
  },
  {
   "cell_type": "code",
   "execution_count": 4,
   "metadata": {},
   "outputs": [
    {
     "name": "stdout",
     "output_type": "stream",
     "text": [
      "13\n",
      "number divide in 2 : [2, 8, 22, 22, 34, 68]\n",
      " number is greater then 7 when that number divided by 2 are :8\n",
      " number is greater then 7 when that number divided by 2 are :22\n",
      " number is greater then 7 when that number divided by 2 are :22\n",
      " number is greater then 7 when that number divided by 2 are :34\n",
      " number is greater then 7 when that number divided by 2 are :68\n"
     ]
    }
   ],
   "source": [
    "list = [2, 5, 8, 22, 43, 22, 55, 34, 87, 68, 99, 444555, 33]\n",
    "print(len(list))\n",
    "list2 = []\n",
    "\n",
    "for element in list:\n",
    "    if element % 2 == 0:\n",
    "        list2.append(element)\n",
    "print(\"number divide in 2 :\", list2)\n",
    "\n",
    "for elements in list2:\n",
    "    if elements > 7:\n",
    "        print(f\" number is greater then 7 when that number divided by 2 are :{elements}\")"
   ]
  },
  {
   "cell_type": "code",
   "execution_count": null,
   "metadata": {},
   "outputs": [],
   "source": []
  }
 ],
 "metadata": {
  "kernelspec": {
   "display_name": "Python 3.8.3 64-bit",
   "language": "python",
   "name": "python38364bitb657517c9cf54cd281d546a0458c53b0"
  },
  "language_info": {
   "codemirror_mode": {
    "name": "ipython",
    "version": 3
   },
   "file_extension": ".py",
   "mimetype": "text/x-python",
   "name": "python",
   "nbconvert_exporter": "python",
   "pygments_lexer": "ipython3",
   "version": "3.8.3"
  }
 },
 "nbformat": 4,
 "nbformat_minor": 4
}
