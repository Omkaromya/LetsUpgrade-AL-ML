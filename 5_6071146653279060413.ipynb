{
 "cells": [
  {
   "cell_type": "markdown",
   "metadata": {},
   "source": [
    "    question 1: Write a program to subtract two complex numbers using python"
   ]
  },
  {
   "cell_type": "code",
   "execution_count": 7,
   "metadata": {},
   "outputs": [
    {
     "name": "stdout",
     "output_type": "stream",
     "text": [
      "subtraction of two no are: (-1-1j)\n"
     ]
    }
   ],
   "source": [
    "def Complex_sub(v1,v2):\n",
    "    return v1-v2\n",
    "\n",
    "v1=complex(2,3)\n",
    "v2=complex(3,4)\n",
    "print(\"subtraction of two no are:\",Complex_sub(v1,v2))"
   ]
  },
  {
   "cell_type": "markdown",
   "metadata": {},
   "source": [
    "    question 2: write a python program to find fourth root of number"
   ]
  },
  {
   "cell_type": "code",
   "execution_count": 11,
   "metadata": {},
   "outputs": [
    {
     "name": "stdout",
     "output_type": "stream",
     "text": [
      "enter a number 3\n",
      "-6\n"
     ]
    }
   ],
   "source": [
    "def root(n):\n",
    "    ans=((-1)**n) * (2*n)\n",
    "    return ans\n",
    "n=int(input(\"enter a number: \"))\n",
    "print(root(n))"
   ]
  },
  {
   "cell_type": "markdown",
   "metadata": {},
   "source": [
    "    question 3: write a python program swap two number with the help temp variable"
   ]
  },
  {
   "cell_type": "code",
   "execution_count": 13,
   "metadata": {},
   "outputs": [
    {
     "name": "stdout",
     "output_type": "stream",
     "text": [
      "enter a first no:5\n",
      "enter a secound no:4\n",
      "4\n",
      "5\n"
     ]
    }
   ],
   "source": [
    "a=int(input(\"enter a first no:\"))\n",
    "b=int(input(\"enter a secound no:\"))\n",
    "\n",
    "temp=a\n",
    "a=b\n",
    "b=temp\n",
    "\n",
    "print(a)\n",
    "print(b)\n"
   ]
  },
  {
   "cell_type": "markdown",
   "metadata": {},
   "source": [
    "    question 3: write a python program swap two number not using temp variable"
   ]
  },
  {
   "cell_type": "code",
   "execution_count": 15,
   "metadata": {},
   "outputs": [
    {
     "name": "stdout",
     "output_type": "stream",
     "text": [
      "enter a first no:5\n",
      "enter a secound no:4\n",
      "4\n"
     ]
    }
   ],
   "source": [
    "a=int(input(\"enter a first no:\"))\n",
    "b=int(input(\"enter a secound no:\"))\n",
    "\n",
    "a ,b =b ,a\n",
    "print(a)\n",
    "print(b)"
   ]
  },
  {
   "cell_type": "code",
   "execution_count": 19,
   "metadata": {},
   "outputs": [
    {
     "name": "stdout",
     "output_type": "stream",
     "text": [
      "4\n",
      "5\n"
     ]
    }
   ],
   "source": [
    "# method 2\n",
    "a=5\n",
    "b=4\n",
    "a=a+b\n",
    "b=a-b\n",
    "a=a-b\n",
    "print(a)\n",
    "print(b)"
   ]
  },
  {
   "cell_type": "markdown",
   "metadata": {},
   "source": [
    "    question 5: write a python program convert farhenheit to kelvin and type celsius both"
   ]
  },
  {
   "cell_type": "code",
   "execution_count": 24,
   "metadata": {},
   "outputs": [
    {
     "name": "stdout",
     "output_type": "stream",
     "text": [
      "degree celsius is vice versa are: (37.5, 99.5)\n"
     ]
    }
   ],
   "source": [
    "celsius=37.5\n",
    "fahernheist=(celsius*1.8) + 32\n",
    "print(\"degree celsius is vice versa are:\",(celsius,fahernheist))"
   ]
  },
  {
   "cell_type": "markdown",
   "metadata": {},
   "source": [
    "    question 6: write a python program  to demonstrate all the available data type in python"
   ]
  },
  {
   "cell_type": "code",
   "execution_count": 31,
   "metadata": {},
   "outputs": [
    {
     "name": "stdout",
     "output_type": "stream",
     "text": [
      "<class 'int'>\n",
      "<class 'float'>\n",
      "<class 'str'>\n",
      "<class 'complex'>\n"
     ]
    }
   ],
   "source": [
    "a=2\n",
    "print(type(a))\n",
    "b=2.0\n",
    "print(type(b))\n",
    "c=\"Punekar\"\n",
    "print(type(c))\n",
    "d=(2+3j)\n",
    "print(type(d))"
   ]
  },
  {
   "cell_type": "markdown",
   "metadata": {},
   "source": [
    "    question 7 "
   ]
  },
  {
   "cell_type": "markdown",
   "metadata": {},
   "source": [
    "1: create github account\n",
    "2: create git repositery\n",
    "3: paste all file "
   ]
  }
 ],
 "metadata": {
  "kernelspec": {
   "display_name": "Python 3.8.3 64-bit",
   "language": "python",
   "name": "python38364bitb657517c9cf54cd281d546a0458c53b0"
  },
  "language_info": {
   "codemirror_mode": {
    "name": "ipython",
    "version": 3
   },
   "file_extension": ".py",
   "mimetype": "text/x-python",
   "name": "python",
   "nbconvert_exporter": "python",
   "pygments_lexer": "ipython3",
   "version": "3.8.3"
  }
 },
 "nbformat": 4,
 "nbformat_minor": 4
}
